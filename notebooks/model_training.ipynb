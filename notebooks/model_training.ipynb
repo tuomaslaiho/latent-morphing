{
 "cells": [
  {
   "cell_type": "code",
   "execution_count": 1,
   "id": "03abcb31",
   "metadata": {},
   "outputs": [
    {
     "name": "stdout",
     "output_type": "stream",
     "text": [
      "Using device: cpu\n"
     ]
    }
   ],
   "source": [
    "import os\n",
    "import sys\n",
    "import torch\n",
    "import torch.nn as nn\n",
    "import torch.optim as optim\n",
    "import torchvision.datasets as datasets\n",
    "import torchvision.transforms as transforms\n",
    "from torch.utils.data import Subset, DataLoader\n",
    "from tqdm import tqdm\n",
    "import matplotlib.pyplot as plt\n",
    "\n",
    "ae_path = os.path.join('../', 'src', 'autoencoder.py')\n",
    "sys.path.append(os.path.dirname(ae_path))\n",
    "from autoencoder import ConvAutoencoder\n",
    "\n",
    "device = torch.device(\"cuda\" if torch.cuda.is_available() else \"cpu\")\n",
    "print(f\"Using device: {device}\")"
   ]
  },
  {
   "cell_type": "code",
   "execution_count": 2,
   "id": "75323665",
   "metadata": {},
   "outputs": [],
   "source": [
    "# Transform the dataset\n",
    "transform = transforms.Compose([\n",
    "    transforms.Resize((28, 28)),\n",
    "    transforms.ToTensor(),\n",
    "    transforms.Normalize((0.5,), (0.5,))\n",
    "])"
   ]
  },
  {
   "cell_type": "code",
   "execution_count": 3,
   "id": "643d9545",
   "metadata": {},
   "outputs": [],
   "source": [
    "data_path = os.path.join('../', 'data')\n",
    "train_data = datasets.FashionMNIST(root=data_path, train=True, download=True, transform=transform)\n",
    "test_data = datasets.FashionMNIST(root=data_path, train=False, download=True, transform=transform)\n"
   ]
  },
  {
   "cell_type": "code",
   "execution_count": 4,
   "id": "25572abb",
   "metadata": {},
   "outputs": [
    {
     "data": {
      "image/png": "[encoded data removed]",
      "text/plain": [
       "<Figure size 1200x300 with 5 Axes>"
      ]
     },
     "metadata": {},
     "output_type": "display_data"
    }
   ],
   "source": [
    "fig, axes = plt.subplots(1, 5, figsize=(12, 3))\n",
    "for i in range(5):\n",
    "    img, label = train_data[i]\n",
    "    axes[i].imshow(img[0], cmap='gray')\n",
    "    axes[i].set_title(f'Label: {label}')\n",
    "    axes[i].axis('off')\n",
    "plt.tight_layout()\n",
    "plt.show()"
   ]
  },
  {
   "cell_type": "code",
   "execution_count": 5,
   "id": "140aaea8",
   "metadata": {},
   "outputs": [],
   "source": [
    "train_loader = DataLoader(train_data, batch_size=64, shuffle=True, num_workers=2)\n",
    "test_loader = DataLoader(test_data, batch_size=64, shuffle=False, num_workers=2)\n"
   ]
  },
  {
   "cell_type": "code",
   "execution_count": 6,
   "id": "1bc9b069",
   "metadata": {},
   "outputs": [],
   "source": [
    "autoencoder = ConvAutoencoder(latent_dim=128).to(device)\n"
   ]
  },
  {
   "cell_type": "code",
   "execution_count": 7,
   "id": "ea53cd21",
   "metadata": {},
   "outputs": [],
   "source": [
    "criterion = nn.MSELoss()\n",
    "optimizer = optim.Adam(autoencoder.parameters(), lr=2e-3)"
   ]
  },
  {
   "cell_type": "code",
   "execution_count": 8,
   "id": "5b3455fc",
   "metadata": {},
   "outputs": [],
   "source": [
    "def train_epoch(autoencoder, train_loader, criterion, optimizer, device):\n",
    "    autoencoder.train()\n",
    "    running_loss = 0.0\n",
    "    for data, _ in tqdm(train_loader, desc='Training'):\n",
    "        data = data.to(device)\n",
    "\n",
    "        # Forward pass\n",
    "        outputs = autoencoder(data)\n",
    "        loss = criterion(outputs, data)\n",
    "\n",
    "        # Backward pass and optimization\n",
    "        optimizer.zero_grad()\n",
    "        loss.backward()\n",
    "        optimizer.step()\n",
    "\n",
    "        running_loss += loss.item()\n",
    "\n",
    "    epoch_loss = running_loss / len(train_loader)\n",
    "    return epoch_loss"
   ]
  },
  {
   "cell_type": "code",
   "execution_count": 9,
   "id": "a238a244",
   "metadata": {},
   "outputs": [],
   "source": [
    "def val_epoch(autoencoder, test_loader, criterion, device):\n",
    "    autoencoder.eval()\n",
    "    running_loss = 0.0\n",
    "    with torch.no_grad():\n",
    "        for data, _ in tqdm(test_loader, desc='Validation'):\n",
    "            data = data.to(device)\n",
    "\n",
    "            outputs = autoencoder(data)\n",
    "            loss = criterion(outputs, data)\n",
    "\n",
    "            running_loss += loss.item()\n",
    "\n",
    "    epoch_loss = running_loss / len(test_loader)\n",
    "    return epoch_loss"
   ]
  },
  {
   "cell_type": "code",
   "execution_count": 10,
   "id": "230bdc42",
   "metadata": {},
   "outputs": [
    {
     "name": "stderr",
     "output_type": "stream",
     "text": [
      "Training: 100%|██████████| 938/938 [00:15<00:00, 61.23it/s]\n",
      "Validation: 100%|██████████| 157/157 [00:03<00:00, 39.31it/s] \n"
     ]
    },
    {
     "name": "stdout",
     "output_type": "stream",
     "text": [
      "Epoch 1/20, Train loss: 0.0502, Val loss: 0.0275\n"
     ]
    },
    {
     "name": "stderr",
     "output_type": "stream",
     "text": [
      "Training: 100%|██████████| 938/938 [00:15<00:00, 61.61it/s]\n",
      "Validation: 100%|██████████| 157/157 [00:04<00:00, 39.12it/s] \n"
     ]
    },
    {
     "name": "stdout",
     "output_type": "stream",
     "text": [
      "Epoch 2/20, Train loss: 0.0234, Val loss: 0.0211\n"
     ]
    },
    {
     "name": "stderr",
     "output_type": "stream",
     "text": [
      "Training: 100%|██████████| 938/938 [00:15<00:00, 61.11it/s]\n",
      "Validation: 100%|██████████| 157/157 [00:03<00:00, 39.99it/s] \n"
     ]
    },
    {
     "name": "stdout",
     "output_type": "stream",
     "text": [
      "Epoch 3/20, Train loss: 0.0190, Val loss: 0.0183\n"
     ]
    },
    {
     "name": "stderr",
     "output_type": "stream",
     "text": [
      "Training: 100%|██████████| 938/938 [00:14<00:00, 62.98it/s]\n",
      "Validation: 100%|██████████| 157/157 [00:03<00:00, 39.80it/s] \n"
     ]
    },
    {
     "name": "stdout",
     "output_type": "stream",
     "text": [
      "Epoch 4/20, Train loss: 0.0168, Val loss: 0.0172\n"
     ]
    },
    {
     "name": "stderr",
     "output_type": "stream",
     "text": [
      "Training: 100%|██████████| 938/938 [00:14<00:00, 63.34it/s]\n",
      "Validation: 100%|██████████| 157/157 [00:03<00:00, 39.76it/s] \n"
     ]
    },
    {
     "name": "stdout",
     "output_type": "stream",
     "text": [
      "Epoch 5/20, Train loss: 0.0155, Val loss: 0.0158\n"
     ]
    },
    {
     "name": "stderr",
     "output_type": "stream",
     "text": [
      "Training: 100%|██████████| 938/938 [00:14<00:00, 63.20it/s]\n",
      "Validation: 100%|██████████| 157/157 [00:03<00:00, 39.99it/s] \n"
     ]
    },
    {
     "name": "stdout",
     "output_type": "stream",
     "text": [
      "Epoch 6/20, Train loss: 0.0147, Val loss: 0.0149\n"
     ]
    },
    {
     "name": "stderr",
     "output_type": "stream",
     "text": [
      "Training: 100%|██████████| 938/938 [00:14<00:00, 63.35it/s]\n",
      "Validation: 100%|██████████| 157/157 [00:03<00:00, 40.29it/s] \n"
     ]
    },
    {
     "name": "stdout",
     "output_type": "stream",
     "text": [
      "Epoch 7/20, Train loss: 0.0141, Val loss: 0.0149\n"
     ]
    },
    {
     "name": "stderr",
     "output_type": "stream",
     "text": [
      "Training: 100%|██████████| 938/938 [00:14<00:00, 63.39it/s]\n",
      "Validation: 100%|██████████| 157/157 [00:03<00:00, 39.45it/s] \n"
     ]
    },
    {
     "name": "stdout",
     "output_type": "stream",
     "text": [
      "Epoch 8/20, Train loss: 0.0136, Val loss: 0.0142\n"
     ]
    },
    {
     "name": "stderr",
     "output_type": "stream",
     "text": [
      "Training: 100%|██████████| 938/938 [00:14<00:00, 62.81it/s]\n",
      "Validation: 100%|██████████| 157/157 [00:03<00:00, 40.11it/s] \n"
     ]
    },
    {
     "name": "stdout",
     "output_type": "stream",
     "text": [
      "Epoch 9/20, Train loss: 0.0133, Val loss: 0.0139\n"
     ]
    },
    {
     "name": "stderr",
     "output_type": "stream",
     "text": [
      "Training: 100%|██████████| 938/938 [00:14<00:00, 63.11it/s]\n",
      "Validation: 100%|██████████| 157/157 [00:03<00:00, 39.77it/s] \n"
     ]
    },
    {
     "name": "stdout",
     "output_type": "stream",
     "text": [
      "Epoch 10/20, Train loss: 0.0129, Val loss: 0.0142\n"
     ]
    },
    {
     "name": "stderr",
     "output_type": "stream",
     "text": [
      "Training: 100%|██████████| 938/938 [00:14<00:00, 62.70it/s]\n",
      "Validation: 100%|██████████| 157/157 [00:03<00:00, 39.62it/s] \n"
     ]
    },
    {
     "name": "stdout",
     "output_type": "stream",
     "text": [
      "Epoch 11/20, Train loss: 0.0127, Val loss: 0.0135\n"
     ]
    },
    {
     "name": "stderr",
     "output_type": "stream",
     "text": [
      "Training: 100%|██████████| 938/938 [00:15<00:00, 59.54it/s]\n",
      "Validation: 100%|██████████| 157/157 [00:04<00:00, 37.63it/s] \n"
     ]
    },
    {
     "name": "stdout",
     "output_type": "stream",
     "text": [
      "Epoch 12/20, Train loss: 0.0124, Val loss: 0.0134\n"
     ]
    },
    {
     "name": "stderr",
     "output_type": "stream",
     "text": [
      "Training: 100%|██████████| 938/938 [00:16<00:00, 55.83it/s]\n",
      "Validation: 100%|██████████| 157/157 [00:04<00:00, 35.56it/s] \n"
     ]
    },
    {
     "name": "stdout",
     "output_type": "stream",
     "text": [
      "Epoch 13/20, Train loss: 0.0122, Val loss: 0.0133\n"
     ]
    },
    {
     "name": "stderr",
     "output_type": "stream",
     "text": [
      "Training: 100%|██████████| 938/938 [00:16<00:00, 57.05it/s]\n",
      "Validation: 100%|██████████| 157/157 [00:04<00:00, 38.31it/s] \n"
     ]
    },
    {
     "name": "stdout",
     "output_type": "stream",
     "text": [
      "Epoch 14/20, Train loss: 0.0121, Val loss: 0.0131\n"
     ]
    },
    {
     "name": "stderr",
     "output_type": "stream",
     "text": [
      "Training: 100%|██████████| 938/938 [00:16<00:00, 57.21it/s]\n",
      "Validation: 100%|██████████| 157/157 [00:04<00:00, 38.24it/s] \n"
     ]
    },
    {
     "name": "stdout",
     "output_type": "stream",
     "text": [
      "Epoch 15/20, Train loss: 0.0119, Val loss: 0.0130\n"
     ]
    },
    {
     "name": "stderr",
     "output_type": "stream",
     "text": [
      "Training: 100%|██████████| 938/938 [00:16<00:00, 57.16it/s]\n",
      "Validation: 100%|██████████| 157/157 [00:04<00:00, 38.77it/s] \n"
     ]
    },
    {
     "name": "stdout",
     "output_type": "stream",
     "text": [
      "Epoch 16/20, Train loss: 0.0118, Val loss: 0.0130\n"
     ]
    },
    {
     "name": "stderr",
     "output_type": "stream",
     "text": [
      "Training: 100%|██████████| 938/938 [00:16<00:00, 56.20it/s]\n",
      "Validation: 100%|██████████| 157/157 [00:04<00:00, 35.85it/s] \n"
     ]
    },
    {
     "name": "stdout",
     "output_type": "stream",
     "text": [
      "Epoch 17/20, Train loss: 0.0117, Val loss: 0.0129\n"
     ]
    },
    {
     "name": "stderr",
     "output_type": "stream",
     "text": [
      "Training: 100%|██████████| 938/938 [00:17<00:00, 54.30it/s]\n",
      "Validation: 100%|██████████| 157/157 [00:04<00:00, 37.09it/s] \n"
     ]
    },
    {
     "name": "stdout",
     "output_type": "stream",
     "text": [
      "Epoch 18/20, Train loss: 0.0116, Val loss: 0.0128\n"
     ]
    },
    {
     "name": "stderr",
     "output_type": "stream",
     "text": [
      "Training: 100%|██████████| 938/938 [00:16<00:00, 56.35it/s]\n",
      "Validation: 100%|██████████| 157/157 [00:04<00:00, 37.43it/s] \n"
     ]
    },
    {
     "name": "stdout",
     "output_type": "stream",
     "text": [
      "Epoch 19/20, Train loss: 0.0115, Val loss: 0.0127\n"
     ]
    },
    {
     "name": "stderr",
     "output_type": "stream",
     "text": [
      "Training: 100%|██████████| 938/938 [00:16<00:00, 56.54it/s]\n",
      "Validation: 100%|██████████| 157/157 [00:04<00:00, 38.20it/s] "
     ]
    },
    {
     "name": "stdout",
     "output_type": "stream",
     "text": [
      "Epoch 20/20, Train loss: 0.0114, Val loss: 0.0129\n"
     ]
    },
    {
     "name": "stderr",
     "output_type": "stream",
     "text": [
      "\n"
     ]
    },
    {
     "data": {
      "image/png": "[encoded data removed]",
      "text/plain": [
       "<Figure size 1000x500 with 1 Axes>"
      ]
     },
     "metadata": {},
     "output_type": "display_data"
    }
   ],
   "source": [
    "epochs = 20\n",
    "\n",
    "train_losses = []\n",
    "val_losses = []\n",
    "\n",
    "for epoch in range(epochs):\n",
    "    train_loss = train_epoch(autoencoder, train_loader, criterion, optimizer, device)\n",
    "    val_loss = val_epoch(autoencoder, test_loader, criterion, device)\n",
    "    print(f\"Epoch {epoch+1}/{epochs}, Train loss: {train_loss:.4f}, Val loss: {val_loss:.4f}\")\n",
    "\n",
    "    train_losses.append(train_loss)\n",
    "    val_losses.append(val_loss)\n",
    "\n",
    "# Plot training and validation loss\n",
    "import matplotlib.pyplot as plt\n",
    "\n",
    "plt.figure(figsize=(10, 5))\n",
    "plt.plot(train_losses, label='Train Loss')\n",
    "plt.plot(val_losses, label='Val Loss')\n",
    "plt.xlabel('Epoch')\n",
    "plt.ylabel('Loss')\n",
    "plt.legend()\n",
    "plt.show()"
   ]
  },
  {
   "cell_type": "code",
   "execution_count": 11,
   "id": "23ef335f",
   "metadata": {},
   "outputs": [],
   "source": [
    "save_path = os.path.join('../models', 'conv_autoencoder_fashionmnist.pth')\n",
    "os.makedirs(os.path.dirname(save_path), exist_ok=True)\n",
    "torch.save(autoencoder.state_dict(), save_path)"
   ]
  },
  {
   "cell_type": "code",
   "execution_count": 12,
   "id": "17161bee",
   "metadata": {},
   "outputs": [],
   "source": [
    "def visualize_reconstructions(autoencoder, data_loader, device, num_images=5):\n",
    "    autoencoder.eval()\n",
    "    data_iter = iter(data_loader)\n",
    "    images, _ = next(data_iter)\n",
    "    images = images.to(device)\n",
    "\n",
    "    with torch.no_grad():\n",
    "        outputs = autoencoder(images)\n",
    "\n",
    "    images = images.cpu().numpy()\n",
    "    outputs = outputs.cpu().numpy()\n",
    "\n",
    "    fig, axes = plt.subplots(2, num_images, figsize=(15, 6))\n",
    "    for i in range(num_images):\n",
    "        axes[0, i].imshow(images[i][0], cmap='gray')\n",
    "        axes[0, i].set_title('Original')\n",
    "        axes[0, i].axis('off')\n",
    "\n",
    "        axes[1, i].imshow(outputs[i][0], cmap='gray')\n",
    "        axes[1, i].set_title('Reconstructed')\n",
    "        axes[1, i].axis('off')\n",
    "\n",
    "    plt.tight_layout()\n",
    "    plt.show()"
   ]
  },
  {
   "cell_type": "code",
   "execution_count": 15,
   "id": "67d39024",
   "metadata": {},
   "outputs": [
    {
     "data": {
      "image/png": "[encoded data removed]",
      "text/plain": [
       "<Figure size 1500x600 with 6 Axes>"
      ]
     },
     "metadata": {},
     "output_type": "display_data"
    }
   ],
   "source": [
    "visualize_reconstructions(autoencoder, test_loader, device, num_images=3)"
   ]
  }
 ],
 "metadata": {
  "kernelspec": {
   "display_name": "Python 3",
   "language": "python",
   "name": "python3"
  },
  "language_info": {
   "codemirror_mode": {
    "name": "ipython",
    "version": 3
   },
   "file_extension": ".py",
   "mimetype": "text/x-python",
   "name": "python",
   "nbconvert_exporter": "python",
   "pygments_lexer": "ipython3",
   "version": "3.12.6"
  }
 },
 "nbformat": 4,
 "nbformat_minor": 5
}
